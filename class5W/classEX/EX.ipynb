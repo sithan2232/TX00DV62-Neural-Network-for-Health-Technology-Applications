{
 "cells": [
  {
   "cell_type": "code",
   "execution_count": 161,
   "metadata": {
    "scrolled": true
   },
   "outputs": [
    {
     "name": "stdout",
     "output_type": "stream",
     "text": [
      "Populating the interactive namespace from numpy and matplotlib\n"
     ]
    }
   ],
   "source": [
    "%pylab inline\n",
    "import pandas as pd\n",
    "from sklearn import preprocessing\n",
    "from tensorflow.keras.models import Sequential\n",
    "from tensorflow.keras.layers import Dense\n",
    "import tensorflow as tf\n",
    "tf.random.set_seed(1234)"
   ]
  },
  {
   "cell_type": "code",
   "execution_count": 162,
   "metadata": {},
   "outputs": [
    {
     "data": {
      "text/html": [
       "<div>\n",
       "<style scoped>\n",
       "    .dataframe tbody tr th:only-of-type {\n",
       "        vertical-align: middle;\n",
       "    }\n",
       "\n",
       "    .dataframe tbody tr th {\n",
       "        vertical-align: top;\n",
       "    }\n",
       "\n",
       "    .dataframe thead th {\n",
       "        text-align: right;\n",
       "    }\n",
       "</style>\n",
       "<table border=\"1\" class=\"dataframe\">\n",
       "  <thead>\n",
       "    <tr style=\"text-align: right;\">\n",
       "      <th></th>\n",
       "      <th>0</th>\n",
       "      <th>1</th>\n",
       "      <th>2</th>\n",
       "      <th>3</th>\n",
       "      <th>4</th>\n",
       "      <th>5</th>\n",
       "      <th>6</th>\n",
       "      <th>7</th>\n",
       "      <th>8</th>\n",
       "      <th>9</th>\n",
       "      <th>10</th>\n",
       "      <th>11</th>\n",
       "      <th>12</th>\n",
       "      <th>13</th>\n",
       "    </tr>\n",
       "  </thead>\n",
       "  <tbody>\n",
       "    <tr>\n",
       "      <td>298</td>\n",
       "      <td>45.0</td>\n",
       "      <td>1.0</td>\n",
       "      <td>1.0</td>\n",
       "      <td>110.0</td>\n",
       "      <td>264.0</td>\n",
       "      <td>0.0</td>\n",
       "      <td>0.0</td>\n",
       "      <td>132.0</td>\n",
       "      <td>0.0</td>\n",
       "      <td>1.2</td>\n",
       "      <td>2.0</td>\n",
       "      <td>0.0</td>\n",
       "      <td>7.0</td>\n",
       "      <td>1</td>\n",
       "    </tr>\n",
       "    <tr>\n",
       "      <td>299</td>\n",
       "      <td>68.0</td>\n",
       "      <td>1.0</td>\n",
       "      <td>4.0</td>\n",
       "      <td>144.0</td>\n",
       "      <td>193.0</td>\n",
       "      <td>1.0</td>\n",
       "      <td>0.0</td>\n",
       "      <td>141.0</td>\n",
       "      <td>0.0</td>\n",
       "      <td>3.4</td>\n",
       "      <td>2.0</td>\n",
       "      <td>2.0</td>\n",
       "      <td>7.0</td>\n",
       "      <td>2</td>\n",
       "    </tr>\n",
       "    <tr>\n",
       "      <td>300</td>\n",
       "      <td>57.0</td>\n",
       "      <td>1.0</td>\n",
       "      <td>4.0</td>\n",
       "      <td>130.0</td>\n",
       "      <td>131.0</td>\n",
       "      <td>0.0</td>\n",
       "      <td>0.0</td>\n",
       "      <td>115.0</td>\n",
       "      <td>1.0</td>\n",
       "      <td>1.2</td>\n",
       "      <td>2.0</td>\n",
       "      <td>1.0</td>\n",
       "      <td>7.0</td>\n",
       "      <td>3</td>\n",
       "    </tr>\n",
       "    <tr>\n",
       "      <td>301</td>\n",
       "      <td>57.0</td>\n",
       "      <td>0.0</td>\n",
       "      <td>2.0</td>\n",
       "      <td>130.0</td>\n",
       "      <td>236.0</td>\n",
       "      <td>0.0</td>\n",
       "      <td>2.0</td>\n",
       "      <td>174.0</td>\n",
       "      <td>0.0</td>\n",
       "      <td>0.0</td>\n",
       "      <td>2.0</td>\n",
       "      <td>1.0</td>\n",
       "      <td>3.0</td>\n",
       "      <td>1</td>\n",
       "    </tr>\n",
       "    <tr>\n",
       "      <td>302</td>\n",
       "      <td>38.0</td>\n",
       "      <td>1.0</td>\n",
       "      <td>3.0</td>\n",
       "      <td>138.0</td>\n",
       "      <td>175.0</td>\n",
       "      <td>0.0</td>\n",
       "      <td>0.0</td>\n",
       "      <td>173.0</td>\n",
       "      <td>0.0</td>\n",
       "      <td>0.0</td>\n",
       "      <td>1.0</td>\n",
       "      <td>NaN</td>\n",
       "      <td>3.0</td>\n",
       "      <td>0</td>\n",
       "    </tr>\n",
       "  </tbody>\n",
       "</table>\n",
       "</div>"
      ],
      "text/plain": [
       "       0    1    2      3      4    5    6      7    8    9    10   11   12  \\\n",
       "298  45.0  1.0  1.0  110.0  264.0  0.0  0.0  132.0  0.0  1.2  2.0  0.0  7.0   \n",
       "299  68.0  1.0  4.0  144.0  193.0  1.0  0.0  141.0  0.0  3.4  2.0  2.0  7.0   \n",
       "300  57.0  1.0  4.0  130.0  131.0  0.0  0.0  115.0  1.0  1.2  2.0  1.0  7.0   \n",
       "301  57.0  0.0  2.0  130.0  236.0  0.0  2.0  174.0  0.0  0.0  2.0  1.0  3.0   \n",
       "302  38.0  1.0  3.0  138.0  175.0  0.0  0.0  173.0  0.0  0.0  1.0  NaN  3.0   \n",
       "\n",
       "     13  \n",
       "298   1  \n",
       "299   2  \n",
       "300   3  \n",
       "301   1  \n",
       "302   0  "
      ]
     },
     "execution_count": 162,
     "metadata": {},
     "output_type": "execute_result"
    }
   ],
   "source": [
    "filename=r'https://archive.ics.uci.edu/ml/machine-learning-databases/heart-disease/processed.cleveland.data'\n",
    "df=pd.read_csv(filename,index_col=None,header=None,na_values='?')\n",
    "df.tail()"
   ]
  },
  {
   "cell_type": "code",
   "execution_count": 163,
   "metadata": {},
   "outputs": [],
   "source": [
    "data=df.loc[:,0:12]\n",
    "data = data.fillna(0)\n",
    "labels=1*df.loc[:,13]>0"
   ]
  },
  {
   "cell_type": "code",
   "execution_count": 164,
   "metadata": {},
   "outputs": [],
   "source": [
    "data=data.to_numpy()\n",
    "labels=labels.to_numpy()\n",
    "\n",
    "data_train=data[:202]\n",
    "labels_train=labels[:202]\n",
    "\n",
    "data_test=data[202:304]\n",
    "labels_test=labels[202:304]\n"
   ]
  },
  {
   "cell_type": "code",
   "execution_count": 165,
   "metadata": {
    "scrolled": true
   },
   "outputs": [
    {
     "name": "stdout",
     "output_type": "stream",
     "text": [
      "Train on 202 samples\n",
      "Epoch 1/20\n",
      "202/202 [==============================] - 1s 7ms/sample - loss: 0.4505 - accuracy: 0.5495\n",
      "Epoch 2/20\n",
      "202/202 [==============================] - 0s 2ms/sample - loss: 0.4505 - accuracy: 0.5495\n",
      "Epoch 3/20\n",
      "202/202 [==============================] - 0s 2ms/sample - loss: 0.4505 - accuracy: 0.5495\n",
      "Epoch 4/20\n",
      "202/202 [==============================] - 0s 2ms/sample - loss: 0.4505 - accuracy: 0.5495\n",
      "Epoch 5/20\n",
      "202/202 [==============================] - 0s 2ms/sample - loss: 0.4505 - accuracy: 0.5495\n",
      "Epoch 6/20\n",
      "202/202 [==============================] - 0s 2ms/sample - loss: 0.4505 - accuracy: 0.5495\n",
      "Epoch 7/20\n",
      "202/202 [==============================] - 0s 2ms/sample - loss: 0.4505 - accuracy: 0.5495\n",
      "Epoch 8/20\n",
      "202/202 [==============================] - 0s 2ms/sample - loss: 0.4505 - accuracy: 0.5495\n",
      "Epoch 9/20\n",
      "202/202 [==============================] - 0s 2ms/sample - loss: 0.4505 - accuracy: 0.5495\n",
      "Epoch 10/20\n",
      "202/202 [==============================] - 0s 2ms/sample - loss: 0.4505 - accuracy: 0.5495\n",
      "Epoch 11/20\n",
      "202/202 [==============================] - 0s 2ms/sample - loss: 0.4505 - accuracy: 0.5495\n",
      "Epoch 12/20\n",
      "202/202 [==============================] - 0s 2ms/sample - loss: 0.4505 - accuracy: 0.5495\n",
      "Epoch 13/20\n",
      "202/202 [==============================] - 0s 2ms/sample - loss: 0.4505 - accuracy: 0.5495\n",
      "Epoch 14/20\n",
      "202/202 [==============================] - 0s 2ms/sample - loss: 0.4505 - accuracy: 0.5495\n",
      "Epoch 15/20\n",
      "202/202 [==============================] - 0s 2ms/sample - loss: 0.4505 - accuracy: 0.5495\n",
      "Epoch 16/20\n",
      "202/202 [==============================] - 0s 2ms/sample - loss: 0.4505 - accuracy: 0.5495\n",
      "Epoch 17/20\n",
      "202/202 [==============================] - 0s 2ms/sample - loss: 0.4505 - accuracy: 0.5495\n",
      "Epoch 18/20\n",
      "202/202 [==============================] - 0s 2ms/sample - loss: 0.4505 - accuracy: 0.5495\n",
      "Epoch 19/20\n",
      "202/202 [==============================] - 0s 2ms/sample - loss: 0.4505 - accuracy: 0.5495\n",
      "Epoch 20/20\n",
      "202/202 [==============================] - 0s 2ms/sample - loss: 0.4505 - accuracy: 0.5495\n",
      "101/1 - 0s - loss: 0.6376 - accuracy: 0.5248\n"
     ]
    },
    {
     "data": {
      "text/plain": [
       "[0.47524752534262027, 0.5247525]"
      ]
     },
     "execution_count": 165,
     "metadata": {},
     "output_type": "execute_result"
    }
   ],
   "source": [
    "model = Sequential()\n",
    "model.add(Dense(8, input_shape=(data_train.shape[1],), activation='relu'))\n",
    "model.add(Dense(8, activation='relu'))\n",
    "model.add(Dense(1, activation='sigmoid'))\n",
    "model.compile(optimizer='rmsprop', loss='mse', metrics=['accuracy'])\n",
    "\n",
    "model.fit(data_train, labels_train ,epochs=20, batch_size=1, verbose=1)\n",
    "\n",
    "model.evaluate(data_test,  labels_test, verbose=2)"
   ]
  },
  {
   "cell_type": "code",
   "execution_count": 166,
   "metadata": {},
   "outputs": [],
   "source": [
    "scaler=preprocessing.StandardScaler().fit(data)\n",
    "data_sc=scaler.transform(data)\n"
   ]
  },
  {
   "cell_type": "code",
   "execution_count": 167,
   "metadata": {},
   "outputs": [
    {
     "data": {
      "text/plain": [
       "array([[ 0.94872647,  0.68620244, -2.25177456, ...,  2.27457861,\n",
       "        -0.71113139,  0.65913253],\n",
       "       [ 1.39200191,  0.68620244,  0.87798549, ...,  0.64911323,\n",
       "         2.5048807 , -0.86542592],\n",
       "       [ 1.39200191,  0.68620244,  0.87798549, ...,  0.64911323,\n",
       "         1.43287667,  1.16731868],\n",
       "       ...,\n",
       "       [ 0.28381332,  0.68620244,  0.87798549, ...,  0.64911323,\n",
       "         0.36087264,  1.16731868],\n",
       "       [ 0.28381332, -1.4572959 , -1.20852121, ...,  0.64911323,\n",
       "         0.36087264, -0.86542592],\n",
       "       [-1.82174501,  0.68620244, -0.16526786, ..., -0.97635214,\n",
       "        -0.71113139, -0.86542592]])"
      ]
     },
     "execution_count": 167,
     "metadata": {},
     "output_type": "execute_result"
    }
   ],
   "source": [
    "data_sc"
   ]
  },
  {
   "cell_type": "code",
   "execution_count": 168,
   "metadata": {},
   "outputs": [],
   "source": [
    "data_train=data_sc[:202]\n",
    "labels_train=labels[:202]\n",
    "\n",
    "data_test=data_sc[202:304]\n",
    "labels_test=labels[202:304]"
   ]
  },
  {
   "cell_type": "code",
   "execution_count": 169,
   "metadata": {
    "scrolled": true
   },
   "outputs": [
    {
     "name": "stdout",
     "output_type": "stream",
     "text": [
      "Train on 202 samples\n",
      "Epoch 1/20\n",
      "202/202 [==============================] - 1s 5ms/sample - loss: 0.2581 - accuracy: 0.5248\n",
      "Epoch 2/20\n",
      "202/202 [==============================] - 0s 2ms/sample - loss: 0.2022 - accuracy: 0.7129\n",
      "Epoch 3/20\n",
      "202/202 [==============================] - 0s 2ms/sample - loss: 0.1683 - accuracy: 0.7772\n",
      "Epoch 4/20\n",
      "202/202 [==============================] - 0s 2ms/sample - loss: 0.1459 - accuracy: 0.8168\n",
      "Epoch 5/20\n",
      "202/202 [==============================] - 0s 2ms/sample - loss: 0.1324 - accuracy: 0.8267\n",
      "Epoch 6/20\n",
      "202/202 [==============================] - 0s 2ms/sample - loss: 0.1240 - accuracy: 0.8366\n",
      "Epoch 7/20\n",
      "202/202 [==============================] - 0s 2ms/sample - loss: 0.1183 - accuracy: 0.8465\n",
      "Epoch 8/20\n",
      "202/202 [==============================] - 0s 2ms/sample - loss: 0.1139 - accuracy: 0.8515\n",
      "Epoch 9/20\n",
      "202/202 [==============================] - 0s 2ms/sample - loss: 0.1115 - accuracy: 0.8614\n",
      "Epoch 10/20\n",
      "202/202 [==============================] - 0s 2ms/sample - loss: 0.1084 - accuracy: 0.8564\n",
      "Epoch 11/20\n",
      "202/202 [==============================] - 0s 2ms/sample - loss: 0.1064 - accuracy: 0.8614\n",
      "Epoch 12/20\n",
      "202/202 [==============================] - 0s 2ms/sample - loss: 0.1037 - accuracy: 0.8663\n",
      "Epoch 13/20\n",
      "202/202 [==============================] - 0s 2ms/sample - loss: 0.1021 - accuracy: 0.8663\n",
      "Epoch 14/20\n",
      "202/202 [==============================] - 0s 2ms/sample - loss: 0.0995 - accuracy: 0.8663\n",
      "Epoch 15/20\n",
      "202/202 [==============================] - 0s 2ms/sample - loss: 0.0984 - accuracy: 0.8713\n",
      "Epoch 16/20\n",
      "202/202 [==============================] - 0s 2ms/sample - loss: 0.0969 - accuracy: 0.8663\n",
      "Epoch 17/20\n",
      "202/202 [==============================] - 0s 2ms/sample - loss: 0.0952 - accuracy: 0.8713\n",
      "Epoch 18/20\n",
      "202/202 [==============================] - 0s 2ms/sample - loss: 0.0936 - accuracy: 0.8713\n",
      "Epoch 19/20\n",
      "202/202 [==============================] - 0s 2ms/sample - loss: 0.0918 - accuracy: 0.8713\n",
      "Epoch 20/20\n",
      "202/202 [==============================] - 0s 2ms/sample - loss: 0.0899 - accuracy: 0.8762\n",
      "101/1 - 0s - loss: 0.2510 - accuracy: 0.8119\n"
     ]
    },
    {
     "data": {
      "text/plain": [
       "[0.14051557324900485, 0.8118812]"
      ]
     },
     "execution_count": 169,
     "metadata": {},
     "output_type": "execute_result"
    }
   ],
   "source": [
    "model = Sequential()\n",
    "model.add(Dense(8, input_shape=(data_train.shape[1],), activation='relu'))\n",
    "model.add(Dense(8, activation='relu'))\n",
    "model.add(Dense(1, activation='sigmoid'))\n",
    "model.compile(optimizer='rmsprop', loss='mse', metrics=['accuracy'])\n",
    "\n",
    "model.fit(data_train, labels_train ,epochs=20, batch_size=1, verbose=1)\n",
    "\n",
    "model.evaluate(data_test,  labels_test, verbose=2)"
   ]
  },
  {
   "cell_type": "markdown",
   "metadata": {},
   "source": [
    "Q7"
   ]
  },
  {
   "cell_type": "markdown",
   "metadata": {},
   "source": [
    "try input mean into Nan"
   ]
  },
  {
   "cell_type": "code",
   "execution_count": 170,
   "metadata": {},
   "outputs": [],
   "source": [
    "filename=r'https://archive.ics.uci.edu/ml/machine-learning-databases/heart-disease/processed.cleveland.data'\n",
    "df=pd.read_csv(filename,index_col=None,header=None,na_values='?')"
   ]
  },
  {
   "cell_type": "code",
   "execution_count": 171,
   "metadata": {},
   "outputs": [],
   "source": [
    "data=df.loc[:,0:12]\n",
    "data = data.fillna(data.mean())\n",
    "labels=1*df.loc[:,13]>0"
   ]
  },
  {
   "cell_type": "code",
   "execution_count": 172,
   "metadata": {},
   "outputs": [],
   "source": [
    "data=data.to_numpy()\n",
    "labels=labels.to_numpy()"
   ]
  },
  {
   "cell_type": "code",
   "execution_count": 173,
   "metadata": {},
   "outputs": [],
   "source": [
    "scaler=preprocessing.StandardScaler().fit(data)\n",
    "data_sc=scaler.transform(data)"
   ]
  },
  {
   "cell_type": "code",
   "execution_count": 174,
   "metadata": {},
   "outputs": [],
   "source": [
    "data_train=data_sc[:202]\n",
    "labels_train=labels[:202]\n",
    "\n",
    "data_test=data_sc[202:304]\n",
    "labels_test=labels[202:304]"
   ]
  },
  {
   "cell_type": "code",
   "execution_count": 175,
   "metadata": {
    "scrolled": true
   },
   "outputs": [
    {
     "name": "stdout",
     "output_type": "stream",
     "text": [
      "Train on 202 samples\n",
      "Epoch 1/20\n",
      "202/202 [==============================] - 1s 6ms/sample - loss: 0.2060 - accuracy: 0.6881\n",
      "Epoch 2/20\n",
      "202/202 [==============================] - 0s 2ms/sample - loss: 0.1664 - accuracy: 0.7921\n",
      "Epoch 3/20\n",
      "202/202 [==============================] - 0s 2ms/sample - loss: 0.1410 - accuracy: 0.8218\n",
      "Epoch 4/20\n",
      "202/202 [==============================] - 0s 2ms/sample - loss: 0.1273 - accuracy: 0.8366\n",
      "Epoch 5/20\n",
      "202/202 [==============================] - 0s 2ms/sample - loss: 0.1196 - accuracy: 0.8465\n",
      "Epoch 6/20\n",
      "202/202 [==============================] - 0s 2ms/sample - loss: 0.1140 - accuracy: 0.8564\n",
      "Epoch 7/20\n",
      "202/202 [==============================] - 0s 2ms/sample - loss: 0.1095 - accuracy: 0.8614\n",
      "Epoch 8/20\n",
      "202/202 [==============================] - 0s 2ms/sample - loss: 0.1065 - accuracy: 0.8663\n",
      "Epoch 9/20\n",
      "202/202 [==============================] - 0s 2ms/sample - loss: 0.1043 - accuracy: 0.8663\n",
      "Epoch 10/20\n",
      "202/202 [==============================] - 0s 2ms/sample - loss: 0.1020 - accuracy: 0.8663\n",
      "Epoch 11/20\n",
      "202/202 [==============================] - 0s 2ms/sample - loss: 0.1001 - accuracy: 0.8614\n",
      "Epoch 12/20\n",
      "202/202 [==============================] - 0s 2ms/sample - loss: 0.0984 - accuracy: 0.8663\n",
      "Epoch 13/20\n",
      "202/202 [==============================] - 0s 2ms/sample - loss: 0.0971 - accuracy: 0.8713\n",
      "Epoch 14/20\n",
      "202/202 [==============================] - 0s 2ms/sample - loss: 0.0947 - accuracy: 0.8713\n",
      "Epoch 15/20\n",
      "202/202 [==============================] - 0s 2ms/sample - loss: 0.0941 - accuracy: 0.8762\n",
      "Epoch 16/20\n",
      "202/202 [==============================] - 0s 2ms/sample - loss: 0.0931 - accuracy: 0.8812\n",
      "Epoch 17/20\n",
      "202/202 [==============================] - 0s 2ms/sample - loss: 0.0919 - accuracy: 0.8861\n",
      "Epoch 18/20\n",
      "202/202 [==============================] - 0s 2ms/sample - loss: 0.0907 - accuracy: 0.8861\n",
      "Epoch 19/20\n",
      "202/202 [==============================] - 0s 2ms/sample - loss: 0.0896 - accuracy: 0.8861\n",
      "Epoch 20/20\n",
      "202/202 [==============================] - 0s 2ms/sample - loss: 0.0884 - accuracy: 0.8861\n",
      "101/1 - 0s - loss: 0.2316 - accuracy: 0.7921\n"
     ]
    },
    {
     "data": {
      "text/plain": [
       "[0.15558533444262967, 0.7920792]"
      ]
     },
     "execution_count": 175,
     "metadata": {},
     "output_type": "execute_result"
    }
   ],
   "source": [
    "model = Sequential()\n",
    "model.add(Dense(8, input_shape=(data_train.shape[1],), activation='relu'))\n",
    "model.add(Dense(8, activation='relu'))\n",
    "model.add(Dense(1, activation='sigmoid'))\n",
    "model.compile(optimizer='rmsprop', loss='mse', metrics=['accuracy'])\n",
    "\n",
    "model.fit(data_train, labels_train ,epochs=20, batch_size=1, verbose=1)\n",
    "\n",
    "model.evaluate(data_test,  labels_test, verbose=2)"
   ]
  },
  {
   "cell_type": "code",
   "execution_count": null,
   "metadata": {},
   "outputs": [],
   "source": []
  }
 ],
 "metadata": {
  "kernelspec": {
   "display_name": "Python 3",
   "language": "python",
   "name": "python3"
  },
  "language_info": {
   "codemirror_mode": {
    "name": "ipython",
    "version": 3
   },
   "file_extension": ".py",
   "mimetype": "text/x-python",
   "name": "python",
   "nbconvert_exporter": "python",
   "pygments_lexer": "ipython3",
   "version": "3.7.4"
  }
 },
 "nbformat": 4,
 "nbformat_minor": 2
}
