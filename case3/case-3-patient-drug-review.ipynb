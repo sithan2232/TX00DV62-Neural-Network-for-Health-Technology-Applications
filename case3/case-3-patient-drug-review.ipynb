{
 "cells": [
  {
   "cell_type": "markdown",
   "metadata": {},
   "source": [
    "# Case 3: Patient Drug Review"
   ]
  },
  {
   "cell_type": "markdown",
   "metadata": {},
   "source": [
    "*Matit Leesathapron . Sithan Janetunyalux . Yanisa Nitisaropas*\n",
    "\n",
    "<br>Last Edited : 16st March 2020 22:00 PM\n",
    "<br>Helsinki Metropolia University of Applied Sciences"
   ]
  },
  {
   "cell_type": "markdown",
   "metadata": {
    "toc": true
   },
   "source": [
    "<h1>Table of Contents<span class=\"tocSkip\"></span></h1>\n",
    "<div class=\"toc\"><ul class=\"toc-item\"><li><span><a href=\"#Background\" data-toc-modified-id=\"Background-1\"><span class=\"toc-item-num\">1&nbsp;&nbsp;</span>Background</a></span></li><li><span><a href=\"#Data\" data-toc-modified-id=\"Data-2\"><span class=\"toc-item-num\">2&nbsp;&nbsp;</span>Data</a></span></li><li><span><a href=\"#Preparation\" data-toc-modified-id=\"Preparation-3\"><span class=\"toc-item-num\">3&nbsp;&nbsp;</span>Preparation</a></span><ul class=\"toc-item\"><li><span><a href=\"#Import-Library\" data-toc-modified-id=\"Import-Library-3.1\"><span class=\"toc-item-num\">3.1&nbsp;&nbsp;</span>Import Library</a></span></li><li><span><a href=\"#Data-Exploration\" data-toc-modified-id=\"Data-Exploration-3.2\"><span class=\"toc-item-num\">3.2&nbsp;&nbsp;</span>Data Exploration</a></span><ul class=\"toc-item\"><li><span><a href=\"#Read-Data\" data-toc-modified-id=\"Read-Data-3.2.1\"><span class=\"toc-item-num\">3.2.1&nbsp;&nbsp;</span>Read Data</a></span></li><li><span><a href=\"#Determine-DataFrame-Shape\" data-toc-modified-id=\"Determine-DataFrame-Shape-3.2.2\"><span class=\"toc-item-num\">3.2.2&nbsp;&nbsp;</span>Determine DataFrame Shape</a></span></li><li><span><a href=\"#Show-DataFrame\" data-toc-modified-id=\"Show-DataFrame-3.2.3\"><span class=\"toc-item-num\">3.2.3&nbsp;&nbsp;</span>Show DataFrame</a></span></li><li><span><a href=\"#Concatination-DataFrame-to-visualize-all-data\" data-toc-modified-id=\"Concatination-DataFrame-to-visualize-all-data-3.2.4\"><span class=\"toc-item-num\">3.2.4&nbsp;&nbsp;</span>Concatination DataFrame to visualize all data</a></span></li><li><span><a href=\"#Visualize-the-ralationship-between-drugName-and-condition\" data-toc-modified-id=\"Visualize-the-ralationship-between-drugName-and-condition-3.2.5\"><span class=\"toc-item-num\">3.2.5&nbsp;&nbsp;</span>Visualize the ralationship between drugName and condition</a></span></li><li><span><a href=\"#Visualize-Review\" data-toc-modified-id=\"Visualize-Review-3.2.6\"><span class=\"toc-item-num\">3.2.6&nbsp;&nbsp;</span>Visualize Review</a></span></li><li><span><a href=\"#Feature-Engineering\" data-toc-modified-id=\"Feature-Engineering-3.2.7\"><span class=\"toc-item-num\">3.2.7&nbsp;&nbsp;</span>Feature Engineering</a></span></li><li><span><a href=\"#Visualize-the-Missing-Value\" data-toc-modified-id=\"Visualize-the-Missing-Value-3.2.8\"><span class=\"toc-item-num\">3.2.8&nbsp;&nbsp;</span>Visualize the Missing Value</a></span></li></ul></li><li><span><a href=\"#Data-Preprocessing\" data-toc-modified-id=\"Data-Preprocessing-3.3\"><span class=\"toc-item-num\">3.3&nbsp;&nbsp;</span>Data Preprocessing</a></span><ul class=\"toc-item\"><li><span><a href=\"#Drop-Rows-with-Missing-Value\" data-toc-modified-id=\"Drop-Rows-with-Missing-Value-3.3.1\"><span class=\"toc-item-num\">3.3.1&nbsp;&nbsp;</span>Drop Rows with Missing Value</a></span></li><li><span><a href=\"#Drop-Rows-with-condition-HTML-tag-<&quot;/span&quot;>\" data-toc-modified-id=\"Drop-Rows-with-condition-HTML-tag-<&quot;/span&quot;>-3.3.2\"><span class=\"toc-item-num\">3.3.2&nbsp;&nbsp;</span>Drop Rows with condition HTML tag &lt;\"/span\"&gt;</a></span></li><li><span><a href=\"#Drop-Conditions-with-Only-One-Drug\" data-toc-modified-id=\"Drop-Conditions-with-Only-One-Drug-3.3.3\"><span class=\"toc-item-num\">3.3.3&nbsp;&nbsp;</span>Drop Conditions with Only One Drug</a></span></li><li><span><a href=\"#Text-Preprocessing\" data-toc-modified-id=\"Text-Preprocessing-3.3.4\"><span class=\"toc-item-num\">3.3.4&nbsp;&nbsp;</span>Text Preprocessing</a></span></li><li><span><a href=\"#Convert-Label-to-Categorical\" data-toc-modified-id=\"Convert-Label-to-Categorical-3.3.5\"><span class=\"toc-item-num\">3.3.5&nbsp;&nbsp;</span>Convert Label to Categorical</a></span></li><li><span><a href=\"#Split-the-Training-set-into-Training-Set-and-Validation-Set\" data-toc-modified-id=\"Split-the-Training-set-into-Training-Set-and-Validation-Set-3.3.6\"><span class=\"toc-item-num\">3.3.6&nbsp;&nbsp;</span>Split the Training set into Training Set and Validation Set</a></span></li></ul></li></ul></li><li><span><a href=\"#Model-1\" data-toc-modified-id=\"Model-1-4\"><span class=\"toc-item-num\">4&nbsp;&nbsp;</span>Model 1</a></span><ul class=\"toc-item\"><li><span><a href=\"#Create-Model\" data-toc-modified-id=\"Create-Model-4.1\"><span class=\"toc-item-num\">4.1&nbsp;&nbsp;</span>Create Model</a></span><ul class=\"toc-item\"><li><span><a href=\"#Train-the-Model\" data-toc-modified-id=\"Train-the-Model-4.1.1\"><span class=\"toc-item-num\">4.1.1&nbsp;&nbsp;</span>Train the Model</a></span></li></ul></li></ul></li><li><span><a href=\"#Results-and-Discussion\" data-toc-modified-id=\"Results-and-Discussion-5\"><span class=\"toc-item-num\">5&nbsp;&nbsp;</span>Results and Discussion</a></span></li><li><span><a href=\"#Conclusion\" data-toc-modified-id=\"Conclusion-6\"><span class=\"toc-item-num\">6&nbsp;&nbsp;</span>Conclusion</a></span></li></ul></div>"
   ]
  },
  {
   "cell_type": "markdown",
   "metadata": {},
   "source": [
    "## Background"
   ]
  },
  {
   "cell_type": "markdown",
   "metadata": {},
   "source": [
    "Sentiment Analysis is one of common machine learning problems that can be solved by deep learning algorithm. On peforming text processing, sequential data should be analyzed by using advance neural network architecture. The suitable one is Long short-term memory (LSTM), an artificial recurrent neural network (RNN) architecture used in the field of deep learning.\n",
    "\n",
    "This document aims to investigate sentiment analysis on patient drug reviews. The computation was implemented by using Long Short Term Memory(LSTM) to examine the dataset and construct effective model to predict the rating based on given reviews. The model is then evaluated by comparing the outcomes from classification reports, confusion matrices and Cohen’s kappa."
   ]
  },
  {
   "cell_type": "markdown",
   "metadata": {},
   "source": [
    "## Data"
   ]
  },
  {
   "cell_type": "markdown",
   "metadata": {},
   "source": [
    "A dataset used for computing the model was extracted from www.Drugs.com; a widely visited pharmaceutical website providing information about drugs. \n",
    "\n",
    "The dataset is a collection of patient drug reviews consisting of 215,063 instances in total. In this case study, 161,297 instances are used for training, while other 53,766 instances are used for testing the model. Each instance in the dataset contains user reviews and rating on a specific drug along with related condition .\n",
    "\n",
    "In the original dataset, rating labels have values range from 0 to 10 representing sentiment condition. For this case study, labels are simplified down into 3 different sentiment classes. The classification conditions are as follow:\n",
    "- negative class : rating < 5\n",
    "- neutral class : rating 5 or 6\n",
    "- positive class : rating > 6"
   ]
  },
  {
   "cell_type": "markdown",
   "metadata": {},
   "source": [
    "## Preparation"
   ]
  },
  {
   "cell_type": "markdown",
   "metadata": {},
   "source": [
    "### Import Library"
   ]
  },
  {
   "cell_type": "markdown",
   "metadata": {},
   "source": [
    "First, we import the librarys that we are going to use."
   ]
  },
  {
   "cell_type": "code",
   "execution_count": 1,
   "metadata": {
    "ExecuteTime": {
     "end_time": "2020-03-16T22:56:06.93021Z",
     "start_time": "2020-03-16T22:56:01.070634Z"
    }
   },
   "outputs": [
    {
     "name": "stdout",
     "output_type": "stream",
     "text": [
      "[nltk_data] Downloading package stopwords to /usr/share/nltk_data...\n",
      "[nltk_data]   Package stopwords is already up-to-date!\n",
      "Tensorflow version: 2.1.0\n"
     ]
    }
   ],
   "source": [
    "import random # Random generators\n",
    "import numpy as np\n",
    "import pandas as pd # Pandas dataframe\n",
    "import matplotlib.pyplot as plt\n",
    "import re # Text cleaning\n",
    "import nltk # Text processing\n",
    "nltk.download('stopwords')\n",
    "from nltk.corpus import stopwords\n",
    "from nltk.stem.snowball import SnowballStemmer\n",
    "from bs4 import BeautifulSoup # Text cleaning\n",
    "import tensorflow as tf # Tensorflow\n",
    "from tensorflow.keras import preprocessing # Text preprocessing\n",
    "from tensorflow.keras.preprocessing.text import Tokenizer # Text preprocessing\n",
    "from tensorflow.keras.preprocessing.sequence import pad_sequences # Text preprocessing\n",
    "from tensorflow.keras.models import Sequential # modeling neural networks\n",
    "from tensorflow.keras.layers import Input, Dense, Conv1D, MaxPooling1D, GlobalMaxPooling1D, Embedding, SpatialDropout1D, LSTM\n",
    "from tensorflow.keras.initializers import Constant\n",
    "from tensorflow.keras import optimizers, metrics # Neural Network\n",
    "from sklearn.metrics import classification_report, confusion_matrix, cohen_kappa_score\n",
    "random.seed(10) # Set seed for the random generators\n",
    "print(f\"Tensorflow version: {tf.__version__}\")"
   ]
  },
  {
   "cell_type": "markdown",
   "metadata": {},
   "source": [
    "### Data Exploration"
   ]
  },
  {
   "cell_type": "markdown",
   "metadata": {},
   "source": [
    "#### Read Data"
   ]
  },
  {
   "cell_type": "markdown",
   "metadata": {},
   "source": [
    "First, we read the dataset and create the Pandas DataFrame"
   ]
  },
  {
   "cell_type": "code",
   "execution_count": 2,
   "metadata": {
    "ExecuteTime": {
     "end_time": "2020-03-16T22:56:20.886302Z",
     "start_time": "2020-03-16T22:56:06.932477Z"
    }
   },
   "outputs": [],
   "source": [
    "df_train = pd.read_csv(\"../input/kuc-hackathon-winter-2018/drugsComTrain_raw.csv\", parse_dates=['date'])\n",
    "df_test = pd.read_csv(\"../input/kuc-hackathon-winter-2018/drugsComTest_raw.csv\", parse_dates=['date'])\n"
   ]
  },
  {
   "cell_type": "markdown",
   "metadata": {},
   "source": [
    "#### Determine DataFrame Shape"
   ]
  },
  {
   "cell_type": "code",
   "execution_count": 3,
   "metadata": {
    "ExecuteTime": {
     "end_time": "2020-03-16T22:56:20.895499Z",
     "start_time": "2020-03-16T22:56:20.888625Z"
    }
   },
   "outputs": [
    {
     "name": "stdout",
     "output_type": "stream",
     "text": [
      "Train DataFrame Shape: (161297, 7)\n",
      "Test DataFrame Shape: (53766, 7)\n"
     ]
    }
   ],
   "source": [
    "print(f\"Train DataFrame Shape: {df_train.shape}\") # We have 161297 rows and 7 columns for training\n",
    "print(f\"Test DataFrame Shape: {df_test.shape}\")   # We have 53766 rows and 7 columns for testing"
   ]
  },
  {
   "cell_type": "markdown",
   "metadata": {},
   "source": [
    "#### Show DataFrame"
   ]
  },
  {
   "cell_type": "code",
   "execution_count": 4,
   "metadata": {
    "ExecuteTime": {
     "end_time": "2020-03-16T22:56:20.922382Z",
     "start_time": "2020-03-16T22:56:20.89957Z"
    }
   },
   "outputs": [
    {
     "data": {
      "text/html": [
       "<div>\n",
       "<style scoped>\n",
       "    .dataframe tbody tr th:only-of-type {\n",
       "        vertical-align: middle;\n",
       "    }\n",
       "\n",
       "    .dataframe tbody tr th {\n",
       "        vertical-align: top;\n",
       "    }\n",
       "\n",
       "    .dataframe thead th {\n",
       "        text-align: right;\n",
       "    }\n",
       "</style>\n",
       "<table border=\"1\" class=\"dataframe\">\n",
       "  <thead>\n",
       "    <tr style=\"text-align: right;\">\n",
       "      <th></th>\n",
       "      <th>uniqueID</th>\n",
       "      <th>drugName</th>\n",
       "      <th>condition</th>\n",
       "      <th>review</th>\n",
       "      <th>rating</th>\n",
       "      <th>date</th>\n",
       "      <th>usefulCount</th>\n",
       "    </tr>\n",
       "  </thead>\n",
       "  <tbody>\n",
       "    <tr>\n",
       "      <th>0</th>\n",
       "      <td>206461</td>\n",
       "      <td>Valsartan</td>\n",
       "      <td>Left Ventricular Dysfunction</td>\n",
       "      <td>\"It has no side effect, I take it in combinati...</td>\n",
       "      <td>9</td>\n",
       "      <td>2012-05-20</td>\n",
       "      <td>27</td>\n",
       "    </tr>\n",
       "    <tr>\n",
       "      <th>1</th>\n",
       "      <td>95260</td>\n",
       "      <td>Guanfacine</td>\n",
       "      <td>ADHD</td>\n",
       "      <td>\"My son is halfway through his fourth week of ...</td>\n",
       "      <td>8</td>\n",
       "      <td>2010-04-27</td>\n",
       "      <td>192</td>\n",
       "    </tr>\n",
       "    <tr>\n",
       "      <th>2</th>\n",
       "      <td>92703</td>\n",
       "      <td>Lybrel</td>\n",
       "      <td>Birth Control</td>\n",
       "      <td>\"I used to take another oral contraceptive, wh...</td>\n",
       "      <td>5</td>\n",
       "      <td>2009-12-14</td>\n",
       "      <td>17</td>\n",
       "    </tr>\n",
       "    <tr>\n",
       "      <th>3</th>\n",
       "      <td>138000</td>\n",
       "      <td>Ortho Evra</td>\n",
       "      <td>Birth Control</td>\n",
       "      <td>\"This is my first time using any form of birth...</td>\n",
       "      <td>8</td>\n",
       "      <td>2015-11-03</td>\n",
       "      <td>10</td>\n",
       "    </tr>\n",
       "    <tr>\n",
       "      <th>4</th>\n",
       "      <td>35696</td>\n",
       "      <td>Buprenorphine / naloxone</td>\n",
       "      <td>Opiate Dependence</td>\n",
       "      <td>\"Suboxone has completely turned my life around...</td>\n",
       "      <td>9</td>\n",
       "      <td>2016-11-27</td>\n",
       "      <td>37</td>\n",
       "    </tr>\n",
       "  </tbody>\n",
       "</table>\n",
       "</div>"
      ],
      "text/plain": [
       "   uniqueID                  drugName                     condition  \\\n",
       "0    206461                 Valsartan  Left Ventricular Dysfunction   \n",
       "1     95260                Guanfacine                          ADHD   \n",
       "2     92703                    Lybrel                 Birth Control   \n",
       "3    138000                Ortho Evra                 Birth Control   \n",
       "4     35696  Buprenorphine / naloxone             Opiate Dependence   \n",
       "\n",
       "                                              review  rating       date  \\\n",
       "0  \"It has no side effect, I take it in combinati...       9 2012-05-20   \n",
       "1  \"My son is halfway through his fourth week of ...       8 2010-04-27   \n",
       "2  \"I used to take another oral contraceptive, wh...       5 2009-12-14   \n",
       "3  \"This is my first time using any form of birth...       8 2015-11-03   \n",
       "4  \"Suboxone has completely turned my life around...       9 2016-11-27   \n",
       "\n",
       "   usefulCount  \n",
       "0           27  \n",
       "1          192  \n",
       "2           17  \n",
       "3           10  \n",
       "4           37  "
      ]
     },
     "execution_count": 4,
     "metadata": {},
     "output_type": "execute_result"
    }
   ],
   "source": [
    "df_train.head()"
   ]
  },
  {
   "cell_type": "markdown",
   "metadata": {},
   "source": [
    "Each variables have an explanations according to these:\n",
    "    \n",
    "- uniqueID (Unique): The ID used to identitfy an individual which is not need in this case.\n",
    "- drugName (Categorical): Name of drug\n",
    "- condition (Categorical): Name of condition\n",
    "- review (Text): Patient's drug review\n",
    "- rating (Numerical): zero to ten patient's drug rating\n",
    "- date (Date): Date of the patient's review\n",
    "- usefulCount (Numerical): Number of user who find this review useful"
   ]
  },
  {
   "cell_type": "markdown",
   "metadata": {},
   "source": [
    "#### Concatination DataFrame to visualize all data"
   ]
  },
  {
   "cell_type": "code",
   "execution_count": 5,
   "metadata": {
    "ExecuteTime": {
     "end_time": "2020-03-16T22:56:20.955119Z",
     "start_time": "2020-03-16T22:56:20.926933Z"
    }
   },
   "outputs": [],
   "source": [
    "df_all = pd.concat([df_train, df_test])"
   ]
  },
  {
   "cell_type": "markdown",
   "metadata": {},
   "source": [
    "Usually each drugName is related to specific condition. So we will try to visuallize them togather."
   ]
  },
  {
   "cell_type": "markdown",
   "metadata": {},
   "source": [
    "#### Visualize the ralationship between drugName and condition"
   ]
  },
  {
   "cell_type": "code",
   "execution_count": 6,
   "metadata": {
    "ExecuteTime": {
     "end_time": "2020-03-16T22:56:21.441249Z",
     "start_time": "2020-03-16T22:56:20.958105Z"
    },
    "scrolled": false
   },
   "outputs": [
    {
     "data": {
      "text/plain": [
       "Text(0.5, 1.0, 'Top 20: The number of drugs per condition.')"
      ]
     },
     "execution_count": 6,
     "metadata": {},
     "output_type": "execute_result"
    },
    {
     "data": {
      "image/png": "[encoded data removed]",
      "text/plain": [
       "<Figure size 1080x504 with 1 Axes>"
      ]
     },
     "metadata": {
      "needs_background": "light"
     },
     "output_type": "display_data"
    }
   ],
   "source": [
    "df_drugCondition = df_all.groupby(['condition'])['drugName'].nunique().sort_values(ascending=False)\n",
    "df_drugCondition[0:20].plot(kind=\"bar\", figsize=(15,7), fontsize=15, color=\"blue\")\n",
    "plt.xlabel(\"Conditions\", fontsize=20)\n",
    "plt.ylabel(\"Drags\", fontsize=20)\n",
    "plt.title(\"Top 20: The number of drugs per condition.\", fontsize=20)"
   ]
  },
  {
   "cell_type": "code",
   "execution_count": 7,
   "metadata": {
    "ExecuteTime": {
     "end_time": "2020-03-16T22:56:21.926452Z",
     "start_time": "2020-03-16T22:56:21.443082Z"
    }
   },
   "outputs": [
    {
     "data": {
      "text/plain": [
       "Text(0.5, 1.0, 'Bottom 20 : The number of drugs per condition.')"
      ]
     },
     "execution_count": 7,
     "metadata": {},
     "output_type": "execute_result"
    },
    {
     "data": {
      "image/png": "[encoded data removed]",
      "text/plain": [
       "<Figure size 1080x504 with 1 Axes>"
      ]
     },
     "metadata": {
      "needs_background": "light"
     },
     "output_type": "display_data"
    }
   ],
   "source": [
    "df_drugCondition = df_all.groupby(['condition'])['drugName'].nunique().sort_values(ascending=False)\n",
    "df_drugCondition[df_drugCondition.shape[0] - 20:df_drugCondition.shape[0]].plot(kind=\"bar\", figsize=(15,7), fontsize=15, color=\"blue\")\n",
    "plt.xlabel(\"Conditions\", fontsize=20)\n",
    "plt.ylabel(\"Drugs\", fontsize=20)\n",
    "plt.title(\"Bottom 20 : The number of drugs per condition.\", fontsize=20)"
   ]
  },
  {
   "cell_type": "code",
   "execution_count": 8,
   "metadata": {
    "ExecuteTime": {
     "end_time": "2020-03-16T22:56:22.050567Z",
     "start_time": "2020-03-16T22:56:21.929844Z"
    }
   },
   "outputs": [
    {
     "data": {
      "text/html": [
       "<div>\n",
       "<style scoped>\n",
       "    .dataframe tbody tr th:only-of-type {\n",
       "        vertical-align: middle;\n",
       "    }\n",
       "\n",
       "    .dataframe tbody tr th {\n",
       "        vertical-align: top;\n",
       "    }\n",
       "\n",
       "    .dataframe thead th {\n",
       "        text-align: right;\n",
       "    }\n",
       "</style>\n",
       "<table border=\"1\" class=\"dataframe\">\n",
       "  <thead>\n",
       "    <tr style=\"text-align: right;\">\n",
       "      <th></th>\n",
       "      <th>uniqueID</th>\n",
       "      <th>drugName</th>\n",
       "      <th>condition</th>\n",
       "      <th>review</th>\n",
       "      <th>rating</th>\n",
       "      <th>date</th>\n",
       "      <th>usefulCount</th>\n",
       "    </tr>\n",
       "  </thead>\n",
       "  <tbody>\n",
       "    <tr>\n",
       "      <th>105</th>\n",
       "      <td>220696</td>\n",
       "      <td>Loestrin 24 Fe</td>\n",
       "      <td>2&lt;/span&gt; users found this comment helpful.</td>\n",
       "      <td>\"I&amp;#039;m 16 and  I have been on Loestrin 24 f...</td>\n",
       "      <td>3</td>\n",
       "      <td>2010-11-03</td>\n",
       "      <td>2</td>\n",
       "    </tr>\n",
       "    <tr>\n",
       "      <th>196</th>\n",
       "      <td>67383</td>\n",
       "      <td>Provera</td>\n",
       "      <td>4&lt;/span&gt; users found this comment helpful.</td>\n",
       "      <td>\"I&amp;#039;m 24 years old and have always had a p...</td>\n",
       "      <td>1</td>\n",
       "      <td>2016-03-27</td>\n",
       "      <td>4</td>\n",
       "    </tr>\n",
       "    <tr>\n",
       "      <th>243</th>\n",
       "      <td>81588</td>\n",
       "      <td>Yaz</td>\n",
       "      <td>3&lt;/span&gt; users found this comment helpful.</td>\n",
       "      <td>\"I took Yaz for a little over 2 years.  From a...</td>\n",
       "      <td>3</td>\n",
       "      <td>2010-06-01</td>\n",
       "      <td>3</td>\n",
       "    </tr>\n",
       "    <tr>\n",
       "      <th>264</th>\n",
       "      <td>132965</td>\n",
       "      <td>Loestrin 24 Fe</td>\n",
       "      <td>4&lt;/span&gt; users found this comment helpful.</td>\n",
       "      <td>\"Took this pill for 1.) Acne and 2.) Birth Con...</td>\n",
       "      <td>2</td>\n",
       "      <td>2014-06-24</td>\n",
       "      <td>4</td>\n",
       "    </tr>\n",
       "    <tr>\n",
       "      <th>391</th>\n",
       "      <td>91050</td>\n",
       "      <td>Norco</td>\n",
       "      <td>11&lt;/span&gt; users found this comment helpful.</td>\n",
       "      <td>\"I have suffered with low back pain - 2 surger...</td>\n",
       "      <td>9</td>\n",
       "      <td>2009-03-15</td>\n",
       "      <td>11</td>\n",
       "    </tr>\n",
       "  </tbody>\n",
       "</table>\n",
       "</div>"
      ],
      "text/plain": [
       "     uniqueID        drugName                                    condition  \\\n",
       "105    220696  Loestrin 24 Fe   2</span> users found this comment helpful.   \n",
       "196     67383         Provera   4</span> users found this comment helpful.   \n",
       "243     81588             Yaz   3</span> users found this comment helpful.   \n",
       "264    132965  Loestrin 24 Fe   4</span> users found this comment helpful.   \n",
       "391     91050           Norco  11</span> users found this comment helpful.   \n",
       "\n",
       "                                                review  rating       date  \\\n",
       "105  \"I&#039;m 16 and  I have been on Loestrin 24 f...       3 2010-11-03   \n",
       "196  \"I&#039;m 24 years old and have always had a p...       1 2016-03-27   \n",
       "243  \"I took Yaz for a little over 2 years.  From a...       3 2010-06-01   \n",
       "264  \"Took this pill for 1.) Acne and 2.) Birth Con...       2 2014-06-24   \n",
       "391  \"I have suffered with low back pain - 2 surger...       9 2009-03-15   \n",
       "\n",
       "     usefulCount  \n",
       "105            2  \n",
       "196            4  \n",
       "243            3  \n",
       "264            4  \n",
       "391           11  "
      ]
     },
     "execution_count": 8,
     "metadata": {},
     "output_type": "execute_result"
    }
   ],
   "source": [
    "df_all[df_all['condition'].astype(str).str.contains('</span>')].head()"
   ]
  },
  {
   "cell_type": "code",
   "execution_count": 9,
   "metadata": {
    "ExecuteTime": {
     "end_time": "2020-03-16T22:56:22.170401Z",
     "start_time": "2020-03-16T22:56:22.053725Z"
    }
   },
   "outputs": [
    {
     "name": "stdout",
     "output_type": "stream",
     "text": [
      "Number of total rows contain the HTML <span> tag: 1171 rows\n"
     ]
    }
   ],
   "source": [
    "print(f\"Number of total rows contain the HTML <span> tag: {len(df_all[df_all['condition'].astype(str).str.contains('</span>')])} rows\")"
   ]
  },
  {
   "cell_type": "markdown",
   "metadata": {},
   "source": [
    "During our data exploration phase, we see something unusual in the top 20 conditions. The condition column contain the HTML <span> tag which is likely to be an error in the crawling process. We will deal with it in the Data Preprocessing phase. "
   ]
  },
  {
   "cell_type": "markdown",
   "metadata": {},
   "source": [
    "In the bottom 20 conditions. Each conditions only have one drug. So the recommendation system is not needed for these conditions. So we will only analyze only if the condition has two or more drugs."
   ]
  },
  {
   "cell_type": "markdown",
   "metadata": {},
   "source": [
    "#### Visualize Review"
   ]
  },
  {
   "cell_type": "code",
   "execution_count": 10,
   "metadata": {
    "ExecuteTime": {
     "end_time": "2020-03-16T22:56:22.178712Z",
     "start_time": "2020-03-16T22:56:22.17207Z"
    }
   },
   "outputs": [
    {
     "data": {
      "text/plain": [
       "'\"I used to take another oral contraceptive, which had 21 pill cycle, and was very happy- very light periods, max 5 days, no other side effects. But it contained hormone gestodene, which is not available in US, so I switched to Lybrel, because the ingredients are similar. When my other pills ended, I started Lybrel immediately, on my first day of period, as the instructions said. And the period lasted for two weeks. When taking the second pack- same two weeks. And now, with third pack things got even worse- my third period lasted for two weeks and now it&#039;s the end of the third week- I still have daily brown discharge.\\r\\nThe positive side is that I didn&#039;t have any other side effects. The idea of being period free was so tempting... Alas.\"'"
      ]
     },
     "execution_count": 10,
     "metadata": {},
     "output_type": "execute_result"
    }
   ],
   "source": [
    "df_train['review'][2]"
   ]
  },
  {
   "cell_type": "markdown",
   "metadata": {},
   "source": [
    "During our data exploration phase, we also found some review that contain the HTML string and tag like \"\\r\", \"\\n\". We will also deal with it in the Data Preprocessing phase."
   ]
  },
  {
   "cell_type": "markdown",
   "metadata": {},
   "source": [
    "Visualize Rating"
   ]
  },
  {
   "cell_type": "code",
   "execution_count": 11,
   "metadata": {
    "ExecuteTime": {
     "end_time": "2020-03-16T22:56:22.363357Z",
     "start_time": "2020-03-16T22:56:22.18038Z"
    },
    "scrolled": true
   },
   "outputs": [
    {
     "data": {
      "text/plain": [
       "Text(0.5, 1.0, 'Total Count of Rating Values between One to Ten')"
      ]
     },
     "execution_count": 11,
     "metadata": {},
     "output_type": "execute_result"
    },
    {
     "data": {
      "image/png": "[encoded data removed]",
      "text/plain": [
       "<Figure size 1080x504 with 1 Axes>"
      ]
     },
     "metadata": {
      "needs_background": "light"
     },
     "output_type": "display_data"
    }
   ],
   "source": [
    "df_rating = df_all['rating'].value_counts().sort_values(ascending=False)\n",
    "df_rating.plot(kind=\"bar\", figsize=(15,7), fontsize=15, color=\"blue\")\n",
    "plt.xlabel(\"Number of Rates\", fontsize=20)\n",
    "plt.ylabel(\"Values\", fontsize=20)\n",
    "plt.title(\"Total Count of Rating Values between One to Ten\", fontsize=20)"
   ]
  },
  {
   "cell_type": "markdown",
   "metadata": {},
   "source": [
    "The first 4 value are \"10\", \"9\", \"1\" and \"8\" which show that the positive rate is higher then the negative rate especially \"10\" rating is twice more than \"9\" rating and people tend to choose extream value such as \"10\" or \"1\"."
   ]
  },
  {
   "cell_type": "markdown",
   "metadata": {},
   "source": [
    "#### Feature Engineering"
   ]
  },
  {
   "cell_type": "markdown",
   "metadata": {},
   "source": [
    "2 Mean the patient review is POSITIVE <br>\n",
    "1 Mean the patient review is NEUTRAL <br>\n",
    "0 Mean the patient review is NEGATIVE"
   ]
  },
  {
   "cell_type": "code",
   "execution_count": 12,
   "metadata": {
    "ExecuteTime": {
     "end_time": "2020-03-16T22:56:22.417236Z",
     "start_time": "2020-03-16T22:56:22.365604Z"
    }
   },
   "outputs": [
    {
     "name": "stdout",
     "output_type": "stream",
     "text": [
      "2.0    106866\n",
      "0.0     40075\n",
      "1.0     14356\n",
      "Name: ReviewSentiment, dtype: int64\n",
      "2.0    35440\n",
      "0.0    13497\n",
      "1.0     4829\n",
      "Name: ReviewSentiment, dtype: int64\n"
     ]
    }
   ],
   "source": [
    "df_train.loc[(df_train['rating'] > 6), 'ReviewSentiment'] = 2\n",
    "df_train.loc[((df_train['rating'] >= 5) & (df_train['rating'] <= 6)), 'ReviewSentiment'] = 1\n",
    "df_train.loc[(df_train['rating'] < 5), 'ReviewSentiment'] = 0\n",
    "\n",
    "df_test.loc[(df_test['rating'] > 6), 'ReviewSentiment'] = 2\n",
    "df_test.loc[((df_test['rating'] >= 5) & (df_test['rating'] <= 6)), 'ReviewSentiment'] = 1\n",
    "df_test.loc[(df_test['rating'] < 5), 'ReviewSentiment'] = 0\n",
    "\n",
    "df_all.loc[(df_all['rating'] > 6), 'ReviewSentiment'] = 2\n",
    "df_all.loc[((df_all['rating'] >= 5) & (df_all['rating'] <= 6)), 'ReviewSentiment'] = 1\n",
    "df_all.loc[(df_all['rating'] < 5), 'ReviewSentiment'] = 0\n",
    "\n",
    "print(df_train['ReviewSentiment'].value_counts())\n",
    "print(df_test['ReviewSentiment'].value_counts())"
   ]
  },
  {
   "cell_type": "code",
   "execution_count": 13,
   "metadata": {
    "ExecuteTime": {
     "end_time": "2020-03-16T22:56:22.587359Z",
     "start_time": "2020-03-16T22:56:22.419948Z"
    },
    "scrolled": true
   },
   "outputs": [
    {
     "data": {
      "text/plain": [
       "Text(0.5, 1.0, 'Total Number of Reviews for each Sentiment value')"
      ]
     },
     "execution_count": 13,
     "metadata": {},
     "output_type": "execute_result"
    },
    {
     "data": {
      "image/png": "[encoded data removed]",
      "text/plain": [
       "<Figure size 1080x504 with 1 Axes>"
      ]
     },
     "metadata": {
      "needs_background": "light"
     },
     "output_type": "display_data"
    }
   ],
   "source": [
    "df_all['ReviewSentiment'].value_counts().plot(kind=\"bar\", figsize=(15,7), fontsize=15, color=\"blue\")\n",
    "plt.xlabel(\"Sentiment Value\", fontsize=20)\n",
    "plt.ylabel(\"Number of Review\", fontsize=20)\n",
    "plt.title(\"Total Number of Reviews for each Sentiment value\", fontsize=20)"
   ]
  },
  {
   "cell_type": "markdown",
   "metadata": {},
   "source": [
    "This bar graph show that the number of positive review is much higher then the negative reviews and a lot less for the neutral reviews which is corresponding to the extream rating value that a patient rate."
   ]
  },
  {
   "cell_type": "markdown",
   "metadata": {},
   "source": [
    "#### Visualize the Missing Value"
   ]
  },
  {
   "cell_type": "code",
   "execution_count": 14,
   "metadata": {
    "ExecuteTime": {
     "end_time": "2020-03-16T22:56:22.64027Z",
     "start_time": "2020-03-16T22:56:22.589289Z"
    },
    "scrolled": false
   },
   "outputs": [
    {
     "data": {
      "text/html": [
       "<div>\n",
       "<style scoped>\n",
       "    .dataframe tbody tr th:only-of-type {\n",
       "        vertical-align: middle;\n",
       "    }\n",
       "\n",
       "    .dataframe tbody tr th {\n",
       "        vertical-align: top;\n",
       "    }\n",
       "\n",
       "    .dataframe thead th {\n",
       "        text-align: right;\n",
       "    }\n",
       "</style>\n",
       "<table border=\"1\" class=\"dataframe\">\n",
       "  <thead>\n",
       "    <tr style=\"text-align: right;\">\n",
       "      <th></th>\n",
       "      <th>uniqueID</th>\n",
       "      <th>drugName</th>\n",
       "      <th>condition</th>\n",
       "      <th>review</th>\n",
       "      <th>rating</th>\n",
       "      <th>date</th>\n",
       "      <th>usefulCount</th>\n",
       "      <th>ReviewSentiment</th>\n",
       "    </tr>\n",
       "  </thead>\n",
       "  <tbody>\n",
       "    <tr>\n",
       "      <th>30</th>\n",
       "      <td>51452</td>\n",
       "      <td>Azithromycin</td>\n",
       "      <td>NaN</td>\n",
       "      <td>\"Very good response. It is so useful for me. \"</td>\n",
       "      <td>10</td>\n",
       "      <td>2010-08-18</td>\n",
       "      <td>1</td>\n",
       "      <td>2.0</td>\n",
       "    </tr>\n",
       "    <tr>\n",
       "      <th>148</th>\n",
       "      <td>61073</td>\n",
       "      <td>Urea</td>\n",
       "      <td>NaN</td>\n",
       "      <td>\"Accurate information.\"</td>\n",
       "      <td>10</td>\n",
       "      <td>2011-07-02</td>\n",
       "      <td>13</td>\n",
       "      <td>2.0</td>\n",
       "    </tr>\n",
       "    <tr>\n",
       "      <th>488</th>\n",
       "      <td>132651</td>\n",
       "      <td>Doxepin</td>\n",
       "      <td>NaN</td>\n",
       "      <td>\"So far so good. Good for me and I can take it...</td>\n",
       "      <td>10</td>\n",
       "      <td>2010-10-20</td>\n",
       "      <td>25</td>\n",
       "      <td>2.0</td>\n",
       "    </tr>\n",
       "    <tr>\n",
       "      <th>733</th>\n",
       "      <td>44297</td>\n",
       "      <td>Ethinyl estradiol / norgestimate</td>\n",
       "      <td>NaN</td>\n",
       "      <td>\"I haven&amp;#039;t been on it for a long time and...</td>\n",
       "      <td>8</td>\n",
       "      <td>2011-01-24</td>\n",
       "      <td>1</td>\n",
       "      <td>2.0</td>\n",
       "    </tr>\n",
       "    <tr>\n",
       "      <th>851</th>\n",
       "      <td>68697</td>\n",
       "      <td>Medroxyprogesterone</td>\n",
       "      <td>NaN</td>\n",
       "      <td>\"I started the shot in July 2015 and ended in ...</td>\n",
       "      <td>6</td>\n",
       "      <td>2017-03-23</td>\n",
       "      <td>1</td>\n",
       "      <td>1.0</td>\n",
       "    </tr>\n",
       "  </tbody>\n",
       "</table>\n",
       "</div>"
      ],
      "text/plain": [
       "     uniqueID                          drugName condition  \\\n",
       "30      51452                      Azithromycin       NaN   \n",
       "148     61073                              Urea       NaN   \n",
       "488    132651                           Doxepin       NaN   \n",
       "733     44297  Ethinyl estradiol / norgestimate       NaN   \n",
       "851     68697               Medroxyprogesterone       NaN   \n",
       "\n",
       "                                                review  rating       date  \\\n",
       "30      \"Very good response. It is so useful for me. \"      10 2010-08-18   \n",
       "148                            \"Accurate information.\"      10 2011-07-02   \n",
       "488  \"So far so good. Good for me and I can take it...      10 2010-10-20   \n",
       "733  \"I haven&#039;t been on it for a long time and...       8 2011-01-24   \n",
       "851  \"I started the shot in July 2015 and ended in ...       6 2017-03-23   \n",
       "\n",
       "     usefulCount  ReviewSentiment  \n",
       "30             1              2.0  \n",
       "148           13              2.0  \n",
       "488           25              2.0  \n",
       "733            1              2.0  \n",
       "851            1              1.0  "
      ]
     },
     "execution_count": 14,
     "metadata": {},
     "output_type": "execute_result"
    }
   ],
   "source": [
    "df_all[df_all.isna().any(axis=1)].head()"
   ]
  },
  {
   "cell_type": "code",
   "execution_count": 15,
   "metadata": {
    "ExecuteTime": {
     "end_time": "2020-03-16T22:56:22.688938Z",
     "start_time": "2020-03-16T22:56:22.642368Z"
    },
    "scrolled": true
   },
   "outputs": [
    {
     "name": "stdout",
     "output_type": "stream",
     "text": [
      "Total rows with missing value: 1194 rows\n"
     ]
    }
   ],
   "source": [
    "print(f\"Total rows with missing value: {len(df_all[df_all.isna().any(axis=1)])} rows\")"
   ]
  },
  {
   "cell_type": "code",
   "execution_count": 16,
   "metadata": {
    "ExecuteTime": {
     "end_time": "2020-03-16T22:56:22.696339Z",
     "start_time": "2020-03-16T22:56:22.69131Z"
    }
   },
   "outputs": [
    {
     "name": "stdout",
     "output_type": "stream",
     "text": [
      "The percentage of missing value: 0.5551861547546533 %\n"
     ]
    }
   ],
   "source": [
    "print(f\"The percentage of missing value: {(1194 / df_all.shape[0]) * 100} %\")"
   ]
  },
  {
   "cell_type": "markdown",
   "metadata": {},
   "source": [
    "We will drop all of the rows which contain missing value because it is only small fraction of the dataset (~0.55%)."
   ]
  },
  {
   "cell_type": "markdown",
   "metadata": {},
   "source": [
    "### Data Preprocessing"
   ]
  },
  {
   "cell_type": "markdown",
   "metadata": {},
   "source": [
    "#### Drop Rows with Missing Value"
   ]
  },
  {
   "cell_type": "code",
   "execution_count": 17,
   "metadata": {
    "ExecuteTime": {
     "end_time": "2020-03-16T22:56:22.775745Z",
     "start_time": "2020-03-16T22:56:22.699143Z"
    }
   },
   "outputs": [],
   "source": [
    "df_train = df_train.dropna(axis=0)\n",
    "df_test = df_test.dropna(axis=0)"
   ]
  },
  {
   "cell_type": "markdown",
   "metadata": {},
   "source": [
    "#### Drop Rows with condition HTML tag <\"/span\">"
   ]
  },
  {
   "cell_type": "code",
   "execution_count": 18,
   "metadata": {
    "ExecuteTime": {
     "end_time": "2020-03-16T22:56:22.921674Z",
     "start_time": "2020-03-16T22:56:22.778593Z"
    }
   },
   "outputs": [],
   "source": [
    "df_train = df_train[df_train['condition'].astype(str).str.contains('</span>') == False]\n",
    "df_test = df_test[df_test['condition'].astype(str).str.contains('</span>') == False]"
   ]
  },
  {
   "cell_type": "markdown",
   "metadata": {},
   "source": [
    "#### Drop Conditions with Only One Drug"
   ]
  },
  {
   "cell_type": "code",
   "execution_count": 19,
   "metadata": {
    "ExecuteTime": {
     "end_time": "2020-03-16T22:56:23.130386Z",
     "start_time": "2020-03-16T22:56:22.923236Z"
    }
   },
   "outputs": [],
   "source": [
    "df_train_1 = df_train.groupby(['condition'])['drugName'].nunique().sort_values(ascending=False)\n",
    "df_train_1_list = df_train_1[df_train_1 == 1].index.to_list()\n",
    "df_train = df_train[~df_train['condition'].isin(df_train_1_list)]\n",
    "\n",
    "df_test_1 = df_test.groupby(['condition'])['drugName'].nunique().sort_values(ascending=False)\n",
    "df_test_1_list = df_test_1[df_test_1 == 1].index.to_list()\n",
    "df_test = df_test[~df_test['condition'].isin(df_test_1_list)]"
   ]
  },
  {
   "cell_type": "markdown",
   "metadata": {},
   "source": [
    "#### Text Preprocessing"
   ]
  },
  {
   "cell_type": "code",
   "execution_count": 20,
   "metadata": {
    "ExecuteTime": {
     "end_time": "2020-03-16T22:56:23.139441Z",
     "start_time": "2020-03-16T22:56:23.132329Z"
    }
   },
   "outputs": [],
   "source": [
    "# removing some stopwords from the list of stopwords as they are important for drug recommendation\n",
    "\n",
    "stops = set(stopwords.words('english'))\n",
    "not_stop = [\"aren't\",\"couldn't\",\"didn't\",\"doesn't\",\"don't\",\"hadn't\",\"hasn't\",\"haven't\",\"isn't\",\"mightn't\",\n",
    "            \"mustn't\",\"needn't\",\"no\",\"nor\",\"not\",\"shan't\",\"shouldn't\",\"wasn't\",\"weren't\",\"wouldn't\"]\n",
    "\n",
    "for i in not_stop:\n",
    "    stops.remove(i)"
   ]
  },
  {
   "cell_type": "markdown",
   "metadata": {},
   "source": [
    "SnowballStemmer is algorithms for stemming word.The algorithms have been created by Martin Porter.It supports many languages which are Danish, Dutch, English, Finnish, French, German, Hungarian, Italian, Norwegian, Portuguese, Romanian, Russian, Spanish and Swedish.[1]"
   ]
  },
  {
   "cell_type": "code",
   "execution_count": 21,
   "metadata": {
    "ExecuteTime": {
     "end_time": "2020-03-16T22:56:23.146796Z",
     "start_time": "2020-03-16T22:56:23.141007Z"
    }
   },
   "outputs": [],
   "source": [
    "stemmer = SnowballStemmer('english')\n",
    "\n",
    "def reviewWords(review):\n",
    "    # 1. Delete HTML \n",
    "    reviewText = BeautifulSoup(review, 'html.parser').get_text()\n",
    "    # 2. Make a space\n",
    "    lettersOnly = re.sub('[^a-zA-Z]', ' ', reviewText)\n",
    "    # 3. Lowercase only\n",
    "    words = lettersOnly.lower().split()\n",
    "    # 4. Remove stopwords \n",
    "    meaningfulWords = [w for w in words if not w in stops]\n",
    "    # 5. Stemming\n",
    "    stemmedWords = [stemmer.stem(w) for w in meaningfulWords]\n",
    "    # 6.Join words\n",
    "    return( ' '.join(stemmedWords))"
   ]
  },
  {
   "cell_type": "code",
   "execution_count": 22,
   "metadata": {
    "ExecuteTime": {
     "end_time": "2020-03-16T22:58:54.133497Z",
     "start_time": "2020-03-16T22:56:23.148447Z"
    }
   },
   "outputs": [
    {
     "name": "stdout",
     "output_type": "stream",
     "text": [
      "CPU times: user 3min 51s, sys: 415 ms, total: 3min 51s\n",
      "Wall time: 3min 52s\n"
     ]
    }
   ],
   "source": [
    "%%time \n",
    "df_train['cleanedReview'] = df_train['review'].apply(reviewWords)\n",
    "df_test['cleanedReview'] = df_test['review'].apply(reviewWords)"
   ]
  },
  {
   "cell_type": "code",
   "execution_count": 23,
   "metadata": {
    "ExecuteTime": {
     "end_time": "2020-03-16T22:59:03.682128Z",
     "start_time": "2020-03-16T22:58:54.140997Z"
    }
   },
   "outputs": [
    {
     "name": "stdout",
     "output_type": "stream",
     "text": [
      "Found 32013 unique tokens.\n",
      "CPU times: user 15.5 s, sys: 46 ms, total: 15.5 s\n",
      "Wall time: 15.6 s\n"
     ]
    }
   ],
   "source": [
    "%%time\n",
    "text_train = df_train['cleanedReview']\n",
    "tokenizer = Tokenizer(num_words = 5000)\n",
    "tokenizer.fit_on_texts(text_train)\n",
    "sequences = tokenizer.texts_to_sequences(text_train)\n",
    "word_index = tokenizer.word_index\n",
    "print('Found %s unique tokens.' % len(word_index))"
   ]
  },
  {
   "cell_type": "code",
   "execution_count": 24,
   "metadata": {
    "ExecuteTime": {
     "end_time": "2020-03-16T22:59:04.6511Z",
     "start_time": "2020-03-16T22:59:03.686675Z"
    }
   },
   "outputs": [],
   "source": [
    "data = pad_sequences(sequences, maxlen=200)"
   ]
  },
  {
   "cell_type": "markdown",
   "metadata": {},
   "source": [
    "#### Convert Label to Categorical"
   ]
  },
  {
   "cell_type": "code",
   "execution_count": 25,
   "metadata": {
    "ExecuteTime": {
     "end_time": "2020-03-16T22:59:04.663457Z",
     "start_time": "2020-03-16T22:59:04.652718Z"
    }
   },
   "outputs": [
    {
     "name": "stdout",
     "output_type": "stream",
     "text": [
      "Shape of data tensor: (158937, 200)\n",
      "Shape of label tensor: (158937, 3)\n"
     ]
    }
   ],
   "source": [
    "from tensorflow.keras.utils import to_categorical\n",
    "\n",
    "y_raw = df_train['ReviewSentiment']\n",
    "\n",
    "y_labels = to_categorical(np.asarray(y_raw))\n",
    "print('Shape of data tensor:', data.shape)\n",
    "print('Shape of label tensor:', y_labels.shape)"
   ]
  },
  {
   "cell_type": "markdown",
   "metadata": {},
   "source": [
    "#### Split the Training set into Training Set and Validation Set"
   ]
  },
  {
   "cell_type": "code",
   "execution_count": 26,
   "metadata": {
    "ExecuteTime": {
     "end_time": "2020-03-16T22:59:04.790815Z",
     "start_time": "2020-03-16T22:59:04.665499Z"
    }
   },
   "outputs": [],
   "source": [
    "# split the data into a training set and a validation set\n",
    "indices = np.arange(data.shape[0])\n",
    "np.random.shuffle(indices)\n",
    "data = data[indices]\n",
    "labels = y_labels[indices]\n",
    "nb_validation_samples = int(0.25 * data.shape[0])\n",
    "\n",
    "x_train = data[:-nb_validation_samples]\n",
    "y_train = labels[:-nb_validation_samples]\n",
    "x_validation = data[-nb_validation_samples:]\n",
    "y_validation = labels[-nb_validation_samples:]"
   ]
  },
  {
   "cell_type": "markdown",
   "metadata": {},
   "source": [
    "## Model 1"
   ]
  },
  {
   "cell_type": "markdown",
   "metadata": {},
   "source": [
    "### Create Model"
   ]
  },
  {
   "cell_type": "markdown",
   "metadata": {},
   "source": [
    "In this model, we use five layers contain one Embedding layer, one SpatialDropout1D layer, two LSTM layers and one Dense layer.\n",
    "\n",
    "-Embedding layer is for text processing.The layer will turn the number that encoded from words into vectors.For example code below,\n",
    "the first argument (5000) is the number of distinct words in the training set.Second argument is number of vector dimensions that\n",
    "going to be an output.And the last one is input_length=200, it means size of each word a unique integer number that used for \n",
    "inputing is equal to 200.[2]\n",
    "\n",
    "\n",
    "-SpatialDropout1D layer is like a dropout function. We input rate(0.1) in the function and fraction of the input units will be droped.However\n",
    "it is not exactly the same function as dropout, the different is SpatialDropout1D will drop entire 1D feature maps at once insteand of individual elements.[3]\n",
    "\n",
    "\n",
    "-LSTM layer is a text prediction layer.The LSTM is improved from simpleRNN network.It helps us solve 'vanishing gradient' problem."
   ]
  },
  {
   "cell_type": "code",
   "execution_count": 27,
   "metadata": {
    "ExecuteTime": {
     "end_time": "2020-03-16T22:59:05.646611Z",
     "start_time": "2020-03-16T22:59:04.792897Z"
    }
   },
   "outputs": [],
   "source": [
    "model = Sequential()\n",
    "model.add(Embedding(5000, 128, input_length=200))\n",
    "model.add(SpatialDropout1D(0.1))\n",
    "model.add(LSTM(128, dropout=0.1, recurrent_dropout=0.1, return_sequences=True))\n",
    "model.add(LSTM(128, dropout=0.1, recurrent_dropout=0.1))\n",
    "model.add(Dense(3, activation='softmax'))\n",
    "model.compile(loss='categorical_crossentropy', optimizer='adam', metrics=['accuracy'])"
   ]
  },
  {
   "cell_type": "markdown",
   "metadata": {},
   "source": [
    "#### Train the Model"
   ]
  },
  {
   "cell_type": "code",
   "execution_count": 28,
   "metadata": {
    "ExecuteTime": {
     "start_time": "2020-03-16T23:01:53.627Z"
    }
   },
   "outputs": [
    {
     "name": "stdout",
     "output_type": "stream",
     "text": [
      "CPU times: user 2h 47min 22s, sys: 5min 46s, total: 2h 53min 8s\n",
      "Wall time: 2h 12min 47s\n"
     ]
    }
   ],
   "source": [
    "%%time\n",
    "history = model.fit(x_train, y_train,\n",
    "          batch_size=128,\n",
    "          epochs=12,\n",
    "          validation_data=(x_validation, y_validation),\n",
    "          verbose=0,\n",
    "          use_multiprocessing=True)"
   ]
  },
  {
   "cell_type": "code",
   "execution_count": 29,
   "metadata": {
    "ExecuteTime": {
     "start_time": "2020-03-16T23:02:33.616Z"
    }
   },
   "outputs": [
    {
     "data": {
      "text/plain": [
       "dict_keys(['loss', 'accuracy', 'val_loss', 'val_accuracy'])"
      ]
     },
     "execution_count": 29,
     "metadata": {},
     "output_type": "execute_result"
    }
   ],
   "source": [
    "history.history.keys()"
   ]
  },
  {
   "cell_type": "code",
   "execution_count": 30,
   "metadata": {},
   "outputs": [
    {
     "data": {
      "image/png": "[encoded data removed]",
      "text/plain": [
       "<Figure size 432x288 with 1 Axes>"
      ]
     },
     "metadata": {
      "needs_background": "light"
     },
     "output_type": "display_data"
    },
    {
     "data": {
      "image/png": "[encoded data removed]",
      "text/plain": [
       "<Figure size 432x288 with 1 Axes>"
      ]
     },
     "metadata": {
      "needs_background": "light"
     },
     "output_type": "display_data"
    }
   ],
   "source": [
    "# Plot the accuracy and loss\n",
    "acc = history.history['accuracy']\n",
    "val_acc = history.history['val_accuracy']\n",
    "loss = history.history['loss']\n",
    "val_loss = history.history['val_loss']\n",
    "e = np.arange(len(acc)) + 1\n",
    "\n",
    "plt.plot(e, acc, label = 'train')\n",
    "plt.plot(e, val_acc, label = 'validation')\n",
    "plt.title('Training and validation accuracy')\n",
    "plt.xlabel('Epoch')\n",
    "plt.grid()\n",
    "plt.legend()\n",
    "\n",
    "plt.figure()\n",
    "\n",
    "plt.plot(e, loss, label = 'train')\n",
    "plt.plot(e, val_loss, label = 'validation')\n",
    "plt.title('Training and validation loss')\n",
    "plt.xlabel('Epoch')\n",
    "plt.grid()\n",
    "plt.legend()\n",
    "\n",
    "plt.show()"
   ]
  },
  {
   "cell_type": "code",
   "execution_count": 31,
   "metadata": {},
   "outputs": [],
   "source": [
    "# Find the predicted values for the validation set\n",
    "y_pred = np.argmax(model.predict(x_validation), axis = 1)\n",
    "y_true = np.argmax(y_validation, axis = 1)"
   ]
  },
  {
   "cell_type": "code",
   "execution_count": 32,
   "metadata": {},
   "outputs": [
    {
     "data": {
      "text/plain": [
       "array([1, 0, 2, ..., 2, 2, 2])"
      ]
     },
     "execution_count": 32,
     "metadata": {},
     "output_type": "execute_result"
    }
   ],
   "source": [
    "y_pred"
   ]
  },
  {
   "cell_type": "code",
   "execution_count": 33,
   "metadata": {},
   "outputs": [
    {
     "name": "stdout",
     "output_type": "stream",
     "text": [
      "              precision    recall  f1-score   support\n",
      "\n",
      "           0       0.78      0.78      0.78      9872\n",
      "           1       0.48      0.31      0.38      3545\n",
      "           2       0.89      0.93      0.91     26317\n",
      "\n",
      "    accuracy                           0.84     39734\n",
      "   macro avg       0.72      0.67      0.69     39734\n",
      "weighted avg       0.82      0.84      0.83     39734\n",
      "\n"
     ]
    }
   ],
   "source": [
    "# Calculate the classification report\n",
    "cr = classification_report(y_true, y_pred)\n",
    "print(cr)"
   ]
  },
  {
   "cell_type": "code",
   "execution_count": 34,
   "metadata": {},
   "outputs": [
    {
     "name": "stdout",
     "output_type": "stream",
     "text": [
      "[[ 7693   946  1187]\n",
      " [  553  1107   658]\n",
      " [ 1626  1492 24472]]\n"
     ]
    }
   ],
   "source": [
    "cm = confusion_matrix(y_true, y_pred).T\n",
    "print(cm)"
   ]
  },
  {
   "cell_type": "code",
   "execution_count": 35,
   "metadata": {},
   "outputs": [
    {
     "name": "stdout",
     "output_type": "stream",
     "text": [
      "Cohen's kappa (linear)    = 0.657\n",
      "Cohen's kappa (quadratic) = 0.747\n"
     ]
    }
   ],
   "source": [
    "# Calculate the cohen's kappa, both with linear and quadratic weights\n",
    "k = cohen_kappa_score(y_true, y_pred)\n",
    "print(f\"Cohen's kappa (linear)    = {k:.3f}\")\n",
    "k2 = cohen_kappa_score(y_true, y_pred, weights = 'quadratic')\n",
    "print(f\"Cohen's kappa (quadratic) = {k2:.3f}\")"
   ]
  },
  {
   "cell_type": "code",
   "execution_count": 36,
   "metadata": {},
   "outputs": [
    {
     "name": "stdout",
     "output_type": "stream",
     "text": [
      "Found 21191 unique tokens.\n",
      "CPU times: user 5.59 s, sys: 38.2 ms, total: 5.63 s\n",
      "Wall time: 5.65 s\n"
     ]
    }
   ],
   "source": [
    "%%time\n",
    "text_test = df_test['cleanedReview']\n",
    "tokenizer = Tokenizer(num_words = 5000)\n",
    "tokenizer.fit_on_texts(text_test)\n",
    "sequences = tokenizer.texts_to_sequences(text_test)\n",
    "word_index = tokenizer.word_index\n",
    "print('Found %s unique tokens.' % len(word_index))"
   ]
  },
  {
   "cell_type": "code",
   "execution_count": 37,
   "metadata": {},
   "outputs": [],
   "source": [
    "data = pad_sequences(sequences, maxlen=200)"
   ]
  },
  {
   "cell_type": "code",
   "execution_count": 38,
   "metadata": {},
   "outputs": [
    {
     "name": "stdout",
     "output_type": "stream",
     "text": [
      "Shape of data tensor: (52858, 200)\n",
      "Shape of label tensor: (52858, 3)\n"
     ]
    }
   ],
   "source": [
    "y_raw = df_test['ReviewSentiment']\n",
    "\n",
    "y_labels = to_categorical(np.asarray(y_raw))\n",
    "print('Shape of data tensor:', data.shape)\n",
    "print('Shape of label tensor:', y_labels.shape)"
   ]
  },
  {
   "cell_type": "code",
   "execution_count": 39,
   "metadata": {},
   "outputs": [],
   "source": [
    "indices = np.arange(data.shape[0])\n",
    "np.random.shuffle(indices)\n",
    "data = data[indices]\n",
    "labels = y_labels[indices]\n",
    "\n",
    "x_test = data\n",
    "y_test = labels"
   ]
  },
  {
   "cell_type": "code",
   "execution_count": 40,
   "metadata": {},
   "outputs": [],
   "source": [
    "# Find the predicted values for the test set\n",
    "y_pred = np.argmax(model.predict(x_test), axis = 1)\n",
    "y_true = np.argmax(y_test, axis = 1)"
   ]
  },
  {
   "cell_type": "code",
   "execution_count": 41,
   "metadata": {},
   "outputs": [
    {
     "data": {
      "text/plain": [
       "array([0, 2, 2, ..., 0, 2, 2])"
      ]
     },
     "execution_count": 41,
     "metadata": {},
     "output_type": "execute_result"
    }
   ],
   "source": [
    "y_pred"
   ]
  },
  {
   "cell_type": "code",
   "execution_count": 42,
   "metadata": {},
   "outputs": [
    {
     "name": "stdout",
     "output_type": "stream",
     "text": [
      "              precision    recall  f1-score   support\n",
      "\n",
      "           0       0.35      0.28      0.31     13306\n",
      "           1       0.11      0.08      0.10      4733\n",
      "           2       0.69      0.77      0.73     34819\n",
      "\n",
      "    accuracy                           0.59     52858\n",
      "   macro avg       0.39      0.38      0.38     52858\n",
      "weighted avg       0.56      0.59      0.57     52858\n",
      "\n"
     ]
    }
   ],
   "source": [
    "# Calculate the classification report\n",
    "cr = classification_report(y_true, y_pred)\n",
    "print(cr)"
   ]
  },
  {
   "cell_type": "code",
   "execution_count": 43,
   "metadata": {},
   "outputs": [
    {
     "name": "stdout",
     "output_type": "stream",
     "text": [
      "[[ 3761   996  5872]\n",
      " [  940   392  2109]\n",
      " [ 8605  3345 26838]]\n"
     ]
    }
   ],
   "source": [
    "cm = confusion_matrix(y_true, y_pred).T\n",
    "print(cm)"
   ]
  },
  {
   "cell_type": "code",
   "execution_count": 44,
   "metadata": {},
   "outputs": [
    {
     "name": "stdout",
     "output_type": "stream",
     "text": [
      "Cohen's kappa (linear)    = 0.101\n",
      "Cohen's kappa (quadratic) = 0.125\n"
     ]
    }
   ],
   "source": [
    "# Calculate the cohen's kappa, both with linear and quadratic weights\n",
    "k = cohen_kappa_score(y_true, y_pred)\n",
    "print(f\"Cohen's kappa (linear)    = {k:.3f}\")\n",
    "k2 = cohen_kappa_score(y_true, y_pred, weights = 'quadratic')\n",
    "print(f\"Cohen's kappa (quadratic) = {k2:.3f}\")"
   ]
  },
  {
   "cell_type": "markdown",
   "metadata": {},
   "source": [
    "## Model 2"
   ]
  },
  {
   "cell_type": "code",
   "execution_count": 45,
   "metadata": {},
   "outputs": [
    {
     "name": "stdout",
     "output_type": "stream",
     "text": [
      "Found 21191 unique tokens.\n",
      "CPU times: user 5.14 s, sys: 19.4 ms, total: 5.16 s\n",
      "Wall time: 5.16 s\n"
     ]
    }
   ],
   "source": [
    "%%time\n",
    "text_test = df_test['cleanedReview']\n",
    "tokenizer = Tokenizer(num_words = 5000)\n",
    "tokenizer.fit_on_texts(text_test)\n",
    "sequences = tokenizer.texts_to_sequences(text_test)\n",
    "word_index = tokenizer.word_index\n",
    "print('Found %s unique tokens.' % len(word_index))"
   ]
  },
  {
   "cell_type": "code",
   "execution_count": 46,
   "metadata": {},
   "outputs": [],
   "source": [
    "data = pad_sequences(sequences, maxlen=200)"
   ]
  },
  {
   "cell_type": "code",
   "execution_count": 47,
   "metadata": {},
   "outputs": [
    {
     "name": "stdout",
     "output_type": "stream",
     "text": [
      "Shape of data tensor: (52858, 200)\n",
      "Shape of label tensor: (52858, 3)\n"
     ]
    }
   ],
   "source": [
    "y_raw = df_test['ReviewSentiment']\n",
    "\n",
    "y_labels = to_categorical(np.asarray(y_raw))\n",
    "print('Shape of data tensor:', data.shape)\n",
    "print('Shape of label tensor:', y_labels.shape)"
   ]
  },
  {
   "cell_type": "code",
   "execution_count": 48,
   "metadata": {},
   "outputs": [],
   "source": [
    "indices = np.arange(data.shape[0])\n",
    "np.random.shuffle(indices)\n",
    "data = data[indices]\n",
    "labels = y_labels[indices]\n",
    "\n",
    "x_test = data\n",
    "y_test = labels"
   ]
  },
  {
   "cell_type": "code",
   "execution_count": 49,
   "metadata": {},
   "outputs": [],
   "source": [
    "freshmodel = Sequential()\n",
    "freshmodel.add(Embedding(5000, 128, input_length=200))\n",
    "freshmodel.add(SpatialDropout1D(0.1))\n",
    "freshmodel.add(LSTM(128, dropout=0.1, recurrent_dropout=0.1, return_sequences=True))\n",
    "freshmodel.add(LSTM(128, dropout=0.1, recurrent_dropout=0.1))\n",
    "freshmodel.add(Dense(3, activation='softmax'))\n",
    "freshmodel.compile(loss='categorical_crossentropy', optimizer='adam', metrics=['accuracy'])"
   ]
  },
  {
   "cell_type": "code",
   "execution_count": 50,
   "metadata": {},
   "outputs": [
    {
     "name": "stdout",
     "output_type": "stream",
     "text": [
      "CPU times: user 37min 12s, sys: 1min 17s, total: 38min 30s\n",
      "Wall time: 29min 22s\n"
     ]
    }
   ],
   "source": [
    "%%time\n",
    "freshhistory = freshmodel.fit(x_test, y_test,\n",
    "          batch_size=128,\n",
    "          epochs=6,\n",
    "          verbose=0,\n",
    "          use_multiprocessing=True)"
   ]
  },
  {
   "cell_type": "code",
   "execution_count": 51,
   "metadata": {},
   "outputs": [
    {
     "data": {
      "text/plain": [
       "dict_keys(['loss', 'accuracy'])"
      ]
     },
     "execution_count": 51,
     "metadata": {},
     "output_type": "execute_result"
    }
   ],
   "source": [
    "freshhistory.history.keys()"
   ]
  },
  {
   "cell_type": "code",
   "execution_count": 52,
   "metadata": {},
   "outputs": [
    {
     "data": {
      "image/png": "[encoded data removed]",
      "text/plain": [
       "<Figure size 432x288 with 1 Axes>"
      ]
     },
     "metadata": {
      "needs_background": "light"
     },
     "output_type": "display_data"
    },
    {
     "data": {
      "image/png": "[encoded data removed]",
      "text/plain": [
       "<Figure size 432x288 with 1 Axes>"
      ]
     },
     "metadata": {
      "needs_background": "light"
     },
     "output_type": "display_data"
    }
   ],
   "source": [
    "# Plot the accuracy and loss\n",
    "acc = freshhistory.history['accuracy']\n",
    "loss = freshhistory.history['loss']\n",
    "e = np.arange(len(acc)) + 1\n",
    "\n",
    "plt.plot(e, acc, label = 'test')\n",
    "plt.title('Test accuracy')\n",
    "plt.xlabel('Epoch')\n",
    "plt.grid()\n",
    "plt.legend()\n",
    "\n",
    "plt.figure()\n",
    "\n",
    "plt.plot(e, loss, label = 'test')\n",
    "plt.title('Test loss')\n",
    "plt.xlabel('Epoch')\n",
    "plt.grid()\n",
    "plt.legend()\n",
    "\n",
    "plt.show()"
   ]
  },
  {
   "cell_type": "code",
   "execution_count": 53,
   "metadata": {},
   "outputs": [],
   "source": [
    "# Find the predicted values for the test set\n",
    "y_pred = np.argmax(freshmodel.predict(x_test), axis = 1)\n",
    "y_true = np.argmax(y_test, axis = 1)"
   ]
  },
  {
   "cell_type": "code",
   "execution_count": 54,
   "metadata": {},
   "outputs": [
    {
     "data": {
      "text/plain": [
       "array([2, 2, 2, ..., 2, 2, 2])"
      ]
     },
     "execution_count": 54,
     "metadata": {},
     "output_type": "execute_result"
    }
   ],
   "source": [
    "y_pred"
   ]
  },
  {
   "cell_type": "code",
   "execution_count": 55,
   "metadata": {},
   "outputs": [
    {
     "name": "stdout",
     "output_type": "stream",
     "text": [
      "              precision    recall  f1-score   support\n",
      "\n",
      "           0       0.86      0.85      0.85     13306\n",
      "           1       0.71      0.36      0.48      4733\n",
      "           2       0.90      0.97      0.93     34819\n",
      "\n",
      "    accuracy                           0.88     52858\n",
      "   macro avg       0.82      0.73      0.76     52858\n",
      "weighted avg       0.87      0.88      0.87     52858\n",
      "\n"
     ]
    }
   ],
   "source": [
    "# Calculate the classification report\n",
    "cr = classification_report(y_true, y_pred)\n",
    "print(cr)"
   ]
  },
  {
   "cell_type": "code",
   "execution_count": 56,
   "metadata": {},
   "outputs": [
    {
     "name": "stdout",
     "output_type": "stream",
     "text": [
      "[[11306   995   915]\n",
      " [  415  1722   294]\n",
      " [ 1585  2016 33610]]\n"
     ]
    }
   ],
   "source": [
    "cm = confusion_matrix(y_true, y_pred).T\n",
    "print(cm)"
   ]
  },
  {
   "cell_type": "code",
   "execution_count": 57,
   "metadata": {},
   "outputs": [
    {
     "name": "stdout",
     "output_type": "stream",
     "text": [
      "Cohen's kappa (linear)    = 0.749\n",
      "Cohen's kappa (quadratic) = 0.826\n"
     ]
    }
   ],
   "source": [
    "# Calculate the cohen's kappa, both with linear and quadratic weights\n",
    "k = cohen_kappa_score(y_true, y_pred)\n",
    "print(f\"Cohen's kappa (linear)    = {k:.3f}\")\n",
    "k2 = cohen_kappa_score(y_true, y_pred, weights = 'quadratic')\n",
    "print(f\"Cohen's kappa (quadratic) = {k2:.3f}\")"
   ]
  },
  {
   "cell_type": "markdown",
   "metadata": {},
   "source": [
    "## Results and Discussion"
   ]
  },
  {
   "cell_type": "markdown",
   "metadata": {},
   "source": [
    "Results of our model are"
   ]
  },
  {
   "cell_type": "markdown",
   "metadata": {},
   "source": [
    "\n",
    "<table style=\"width:100%,text-align:center;\">\n",
    "  <tr>\n",
    "    <th></th>\n",
    "    <th>Accuracy</th>\n",
    "    <th>Loss</th>\n",
    "    <th>Cohen's kappa (linear)</th> \n",
    "    <th>Cohen's kappa (quadratic) </th> \n",
    "  </tr>\n",
    "  <tr>\n",
    "    <td>Train Data</td>\n",
    "    <td>91</td> \n",
    "    <td>0.24</td>\n",
    "    <td>-</td>\n",
    "    <td>-</td>\n",
    "  </tr>\n",
    "  <tr>\n",
    "    <td>Validate Data</td>\n",
    "    <td>83</td> \n",
    "    <td>0.55</td>\n",
    "    <td>0.644</td>\n",
    "    <td>0.736</td>\n",
    "  </tr>\n",
    "    <tr>\n",
    "    <td>Test Data</td>\n",
    "    <td>85</td> \n",
    "    <td>0.4</td>\n",
    "    <td>0.73</td>\n",
    "    <td>0.81</td>\n",
    "  </tr>\n",
    "</table>"
   ]
  },
  {
   "cell_type": "markdown",
   "metadata": {},
   "source": [
    "From table above,show all result that we got from three data set which are Training set, Validation set and Testing set.The accuracies of these three data sets are very well.They are all above 83%.However if we go back \n",
    "and look at the graph(Model1),the minimum loss value of validation set is located at epoch number six and after that lass value keep increasing.This means we are over training the model.So we create another model(Model2) ,but this time we train with only six epochs and the result is very satisfy.\n",
    "\n",
    "Cohen's kappa value, the value is quit high in both validation set and test set.This Cohen's kappa value tell us how reliable of categories."
   ]
  },
  {
   "cell_type": "markdown",
   "metadata": {},
   "source": [
    "Discussion\n",
    "\n",
    "Now let compare reult with Grässer et al. Table 2, p. 124.From comparing the results obtained with the results in the book.The accuracy of the data is not too different. The results from the book have an accuracy of around 90 percent while the results of our models can predict up to 80 percent.But the inter-rater reliability or Cohen's kappa of the models in the books compare with our models are quite distinct.The Cohen's kappa values from the books have almost 84, while the Cohen's kappa values of our models are around from 60 to 70."
   ]
  },
  {
   "cell_type": "markdown",
   "metadata": {},
   "source": [
    "## Conclusion"
   ]
  },
  {
   "cell_type": "markdown",
   "metadata": {},
   "source": [
    "In conclusion, in the case 3 what we did are text anylysis for predicting catigories.First we start with exploring data, text preprocessing, build model and vesulize the result respectively.By doing text anylysis, it helps us know relationship between words and also know prediction as well.Nomally we can use text analysis \n",
    "in field of Sentiment analysis,Language recognition,Automatization of customer service,Spam email filtering,\n",
    "and others."
   ]
  },
  {
   "cell_type": "markdown",
   "metadata": {},
   "source": [
    "## Reference"
   ]
  },
  {
   "cell_type": "markdown",
   "metadata": {},
   "source": [
    "https://kite.com/python/docs/nltk.SnowballStemmer [1]<br>\n",
    "https://stats.stackexchange.com/questions/270546/how-does-keras-embedding-layer-work [2]<br>\n",
    "https://www.tensorflow.org/api_docs/python/tf/keras/layers/SpatialDropout1D [3]"
   ]
  }
 ],
 "metadata": {
  "kernelspec": {
   "display_name": "Python 3",
   "language": "python",
   "name": "python3"
  },
  "language_info": {
   "codemirror_mode": {
    "name": "ipython",
    "version": 3
   },
   "file_extension": ".py",
   "mimetype": "text/x-python",
   "name": "python",
   "nbconvert_exporter": "python",
   "pygments_lexer": "ipython3",
   "version": "3.6.6"
  },
  "toc": {
   "base_numbering": 1,
   "nav_menu": {},
   "number_sections": true,
   "sideBar": true,
   "skip_h1_title": true,
   "title_cell": "Table of Contents",
   "title_sidebar": "Contents",
   "toc_cell": true,
   "toc_position": {},
   "toc_section_display": true,
   "toc_window_display": false
  },
  "varInspector": {
   "cols": {
    "lenName": 16,
    "lenType": 16,
    "lenVar": 40
   },
   "kernels_config": {
    "python": {
     "delete_cmd_postfix": "",
     "delete_cmd_prefix": "del ",
     "library": "var_list.py",
     "varRefreshCmd": "print(var_dic_list())"
    },
    "r": {
     "delete_cmd_postfix": ") ",
     "delete_cmd_prefix": "rm(",
     "library": "var_list.r",
     "varRefreshCmd": "cat(var_dic_list()) "
    }
   },
   "types_to_exclude": [
    "module",
    "function",
    "builtin_function_or_method",
    "instance",
    "_Feature"
   ],
   "window_display": false
  }
 },
 "nbformat": 4,
 "nbformat_minor": 4
}
